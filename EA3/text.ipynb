{
 "cells": [
  {
   "cell_type": "code",
   "id": "initial_id",
   "metadata": {
    "collapsed": true
   },
   "source": [
    "TEXT = \"text.txt\"\n",
    "\n",
    "import re, string\n",
    "\n",
    "translator = str.maketrans('', '', string.punctuation)\n",
    "\n",
    "with open(TEXT, \"r\", encoding=\"utf-8\") as file: text = file.read()\n",
    "\n",
    "text = re.sub(r'\\[.*?\\]', '', text)\n",
    "\n",
    "lines = [line.strip() for line in (re.split(r'[.:;—?!]', text))]\n",
    "\n",
    "with open(TEXT, \"w\", encoding=\"utf-8\") as output_file:\n",
    "    for line in lines:\n",
    "        if len(line.split()) > 1:\n",
    "            output_file.write(line.translate(translator) + \"\\n\")"
   ],
   "outputs": [],
   "execution_count": null
  }
 ],
 "metadata": {
  "kernelspec": {
   "display_name": "Python 3",
   "language": "python",
   "name": "python3"
  },
  "language_info": {
   "codemirror_mode": {
    "name": "ipython",
    "version": 2
   },
   "file_extension": ".py",
   "mimetype": "text/x-python",
   "name": "python",
   "nbconvert_exporter": "python",
   "pygments_lexer": "ipython2",
   "version": "2.7.6"
  }
 },
 "nbformat": 4,
 "nbformat_minor": 5
}
