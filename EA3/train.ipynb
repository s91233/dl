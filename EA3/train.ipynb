{
 "cells": [
  {
   "cell_type": "code",
   "metadata": {
    "dotnet_interactive": {
     "language": "csharp"
    },
    "polyglot_notebook": {
     "kernelName": "csharp"
    }
   },
   "source": [
    "import os, json, datetime, numpy as np, tensorflow as tf\n",
    "from tensorflow.keras.preprocessing.text import Tokenizer\n",
    "from tensorflow.keras.preprocessing.sequence import pad_sequences\n",
    "from tensorflow.keras.callbacks import TensorBoard\n",
    "from tensorflow.keras.optimizers import Adam\n",
    "from tensorflow.keras.models import Sequential\n",
    "from tensorflow.keras.layers import Embedding, Bidirectional, LSTM, Dense"
   ],
   "outputs": [],
   "execution_count": null
  },
  {
   "cell_type": "markdown",
   "metadata": {},
   "source": "## Tokenize"
  },
  {
   "metadata": {},
   "cell_type": "code",
   "source": [
    "with open(\"./pg1513.txt\", 'r', encoding='utf-8') as file: text = file.read()\n",
    "DIR = f\"{os.path.splitext(os.path.basename(file.name))[0]}_{datetime.datetime.now().strftime('%Y%m%d-%H%M%S')}\"\n",
    "os.makedirs('./models/'+DIR, exist_ok=True)\n",
    "\n",
    "tokenizer = Tokenizer()\n",
    "tokenizer.fit_on_texts([text])\n",
    "dict_size = len(tokenizer.word_index) + 1\n",
    "\n",
    "sequences = np.array( pad_sequences( [tokenizer.texts_to_sequences([line])[0][:i] for line in text.split('\\n') for i, _ in enumerate(tokenizer.texts_to_sequences([line])[0], start=1)], padding='pre') )\n",
    "\n",
    "Y = np.array(tf.keras.utils.to_categorical(sequences[:, -1], num_classes=dict_size))\n",
    "\n",
    "with open(\"./models/{0}/dict.json\".format(DIR), 'w', encoding='utf-8') as f:\n",
    "    json.dump({\n",
    "        \"word_index\": tokenizer.word_index,\n",
    "        \"index_word\": tokenizer.index_word,\n",
    "        \"sequence_l\": sequences.shape[1]\n",
    "    }, f, ensure_ascii=False\n",
    ")\n"
   ],
   "outputs": [],
   "execution_count": null
  },
  {
   "metadata": {},
   "cell_type": "markdown",
   "source": "## Train"
  },
  {
   "metadata": {},
   "cell_type": "code",
   "source": [
    "model = Sequential()\n",
    "model.add(Embedding(dict_size, 100, input_shape=(sequences.shape[1]-1,)))\n",
    "model.add(Bidirectional(LSTM(100)))\n",
    "model.add(Dense(dict_size, activation='softmax'))\n",
    "model.compile(loss='categorical_crossentropy', metrics=['accuracy'], optimizer=Adam(learning_rate=0.01))\n",
    "model.summary()\n",
    "\n",
    "history = model.fit(sequences[:, :-1], Y, epochs=1, batch_size=32, verbose=2, callbacks=[TensorBoard()])\n",
    "\n",
    "model.save('./models/{0}/model.keras'.format(DIR))"
   ],
   "outputs": [],
   "execution_count": null
  },
  {
   "metadata": {},
   "cell_type": "markdown",
   "source": "## Test"
  },
  {
   "metadata": {},
   "cell_type": "code",
   "source": [
    "test = \"Henceforth\"\n",
    "\n",
    "for _ in range(10): test += \" \" + tokenizer.index_word.get( np.argmax( model.predict( pad_sequences([(tokenizer.texts_to_sequences([test])[0])], maxlen=sequences.shape[1]-1, padding='pre'), verbose=0) ), \"\")\n",
    "\n",
    "print(test)"
   ],
   "outputs": [],
   "execution_count": null
  },
  {
   "metadata": {},
   "cell_type": "markdown",
   "source": "## Export"
  },
  {
   "metadata": {},
   "cell_type": "code",
   "source": [
    "import tensorflowjs as tfjs\n",
    "\n",
    "tfjs.converters.save_keras_model(model, \"./models/{0}/tfjs\".format(DIR))"
   ],
   "outputs": [],
   "execution_count": null
  },
  {
   "metadata": {},
   "cell_type": "markdown",
   "source": "## Experiment"
  },
  {
   "metadata": {},
   "cell_type": "code",
   "source": [
    "model = Sequential()\n",
    "model.add(Dense(100, activation='relu', input_shape=(sequences.shape[1]-1,)))\n",
    "model.add(Dense(100, activation='relu'))\n",
    "model.add(Dense(100, activation='relu'))\n",
    "model.add(Dense(dict_size, activation='softmax'))\n",
    "model.compile(loss='categorical_crossentropy', metrics=['accuracy'], optimizer=Adam(learning_rate=0.01))\n",
    "model.fit(sequences[:, :-1], Y, epochs=1, batch_size=32, verbose=2, callbacks=[TensorBoard()])"
   ],
   "outputs": [],
   "execution_count": null
  },
  {
   "metadata": {},
   "cell_type": "code",
   "source": [
    "with open(\"./models/{0}/history.json\".format(DIR), 'w') as f: f.write(json.dumps(history.history))\n",
    "\n",
    "import pandas as pd\n",
    "\n",
    "pd.DataFrame(history.history).to_csv(\"./models/{0}/history.csv\".format(DIR))"
   ],
   "outputs": [],
   "execution_count": null
  }
 ],
 "metadata": {
  "kernelspec": {
   "display_name": "Python 3",
   "language": "python",
   "name": "python3"
  },
  "language_info": {
   "codemirror_mode": {
    "name": "ipython",
    "version": 3
   },
   "file_extension": ".py",
   "mimetype": "text/x-python",
   "name": "python",
   "nbconvert_exporter": "python",
   "pygments_lexer": "ipython3",
   "version": "3.11.5"
  },
  "orig_nbformat": 4,
  "polyglot_notebook": {
   "kernelInfo": {
    "defaultKernelName": "csharp",
    "items": [
     {
      "aliases": [],
      "name": "csharp"
     }
    ]
   }
  }
 },
 "nbformat": 4,
 "nbformat_minor": 2
}
